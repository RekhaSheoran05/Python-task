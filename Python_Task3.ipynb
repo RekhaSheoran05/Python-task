{
  "nbformat": 4,
  "nbformat_minor": 0,
  "metadata": {
    "colab": {
      "provenance": [],
      "authorship_tag": "ABX9TyNjznv+3On5vEMlvajbjblM",
      "include_colab_link": true
    },
    "kernelspec": {
      "name": "python3",
      "display_name": "Python 3"
    },
    "language_info": {
      "name": "python"
    }
  },
  "cells": [
    {
      "cell_type": "markdown",
      "metadata": {
        "id": "view-in-github",
        "colab_type": "text"
      },
      "source": [
        "<a href=\"https://colab.research.google.com/github/RekhaSheoran05/Python-task/blob/main/Python_Task3.ipynb\" target=\"_parent\"><img src=\"https://colab.research.google.com/assets/colab-badge.svg\" alt=\"Open In Colab\"/></a>"
      ]
    },
    {
      "cell_type": "markdown",
      "source": [
        "# 🧠 Python Developer Task – 3  \n",
        "**Submitted by:** Rekha  \n",
        "**Organization:** Main Flow Services and Technologies Pvt. Ltd.  \n",
        "**Platform :** Google Colab\n",
        "\n",
        "\n",
        "---\n",
        "\n",
        "## 📌 Overview  \n",
        "This notebook contains solutions to a curated set of Python programming challenges, focused on logic building, input/output handling, matrix operations, and strategic gameplay design.  \n",
        "The final problem involves building an AI-powered Tic-Tac-Toe game using the **Minimax algorithm** for optimal decision-making.\n",
        "\n",
        "---\n",
        "\n",
        "## 🧩 Task Summary\n",
        "\n",
        "| Task No. | Title                   | Key Concepts                 |\n",
        "|----------|------------------------|------------------------------|\n",
        "| 17       | Table of a Number       | Looping, Arithmetic          |\n",
        "| 18       | Swap Two Numbers        | Arithmetic Manipulation      |\n",
        "| 19       | Check Substring         | String Operations            |\n",
        "| 20       | Decimal to Binary       | Number Conversion Logic      |\n",
        "| 21       | Matrix Addition         | 2D List Traversal, Nesting   |\n",
        "| 22       | Matrix Multiplication   | Dot Product, Index Mapping   |\n",
        "| 23       | Find Second Largest     | Sorting, Edge Case Handling  |\n",
        "| 24       | Check Anagram           | String Cleanup & Comparison  |\n",
        "| 🎮       | AI-Based Tic-Tac-Toe    | Minimax Algorithm, Recursion |\n",
        "\n",
        "---\n",
        "\n",
        "## 📍 Learning Outcomes  \n",
        "- Strengthened understanding of core Python syntax and logic  \n",
        "- Developed clean, user-interactive scripts  \n",
        "- Implemented advanced logic through recursion and game theory  \n",
        "- Practiced documenting and presenting solutions clearly and professionally"
      ],
      "metadata": {
        "id": "VcwHtgfAfK0V"
      }
    },
    {
      "cell_type": "markdown",
      "source": [
        "# **🧮 Task 17. Table of a Number**\n",
        "\n",
        "Objective:\n",
        "\n",
        "Print the multiplication table for a given number n.\n",
        "\n",
        "Approach:\n",
        "\n",
        "Use a for loop from 1 to 10 and multiply each by n.\n",
        "\n",
        "Challenge:\n",
        "\n",
        " Clean formatting and intuitive layout.\n",
        "\n",
        "\n"
      ],
      "metadata": {
        "id": "-JAJSe0hN_sJ"
      }
    },
    {
      "cell_type": "code",
      "execution_count": null,
      "metadata": {
        "colab": {
          "base_uri": "https://localhost:8080/"
        },
        "id": "_8QwvzriLHmm",
        "outputId": "ec8fc4a1-5210-49d0-c7e3-d74f15f9d86e"
      },
      "outputs": [
        {
          "output_type": "stream",
          "name": "stdout",
          "text": [
            "Enter a number for its multiplication table: 5\n",
            "5 x 1 = 5\n",
            "5 x 2 = 10\n",
            "5 x 3 = 15\n",
            "5 x 4 = 20\n",
            "5 x 5 = 25\n",
            "5 x 6 = 30\n",
            "5 x 7 = 35\n",
            "5 x 8 = 40\n",
            "5 x 9 = 45\n",
            "5 x 10 = 50\n"
          ]
        }
      ],
      "source": [
        "n = int(input(\"Enter a number for its multiplication table: \"))\n",
        "\n",
        "for i in range(1, 11):\n",
        "    print(f\"{n} x {i} = {n * i}\")"
      ]
    },
    {
      "cell_type": "markdown",
      "source": [
        "# 🔄 18. Swap Two Numbers Without a Third Variable\n",
        "\n",
        "Objective:\n",
        "\n",
        "Swap values of two integers a and b without using a third variable.\n",
        "\n",
        "Approach:\n",
        "\n",
        " Use arithmetic operations (addition and subtraction).\n",
        "\n",
        "Challenge:\n",
        "\n",
        " Maintain accuracy with negative and large integers.\n"
      ],
      "metadata": {
        "id": "BMJV2_6oQPre"
      }
    },
    {
      "cell_type": "code",
      "source": [
        "a = int(input(\"Enter first number (a): \"))\n",
        "b = int(input(\"Enter second number (b): \"))\n",
        "\n",
        "a = a + b\n",
        "b = a - b\n",
        "a = a - b\n",
        "\n",
        "print(\"After swap:\")\n",
        "print(\"a =\", a)\n",
        "print(\"b =\", b)"
      ],
      "metadata": {
        "colab": {
          "base_uri": "https://localhost:8080/"
        },
        "id": "bD0jT4yCN8k4",
        "outputId": "6253b567-9260-41cf-d9f1-9d62537082ac"
      },
      "execution_count": null,
      "outputs": [
        {
          "output_type": "stream",
          "name": "stdout",
          "text": [
            "Enter first number (a): 12\n",
            "Enter second number (b): 34\n",
            "After swap:\n",
            "a = 34\n",
            "b = 12\n"
          ]
        }
      ]
    },
    {
      "cell_type": "markdown",
      "source": [
        "# **🔍 19. Check Substring**\n",
        "\n",
        "Objective:\n",
        "\n",
        "Check if one string s2 is a substring of another string s1.\n",
        "\n",
        "Approach:\n",
        "Use the in keyword for checking.\n",
        "\n",
        "Challenge:\n",
        "\n",
        " Consider case sensitivity and whitespace if needed.\n"
      ],
      "metadata": {
        "id": "CszJL0H3Q7BT"
      }
    },
    {
      "cell_type": "code",
      "source": [
        "s1 = input(\"Enter main string (s1): \")\n",
        "s2 = input(\"Enter substring to check (s2): \")\n",
        "\n",
        "print(s2 in s1)"
      ],
      "metadata": {
        "colab": {
          "base_uri": "https://localhost:8080/"
        },
        "id": "gDvecOJ5Q1ZQ",
        "outputId": "d1f84be6-e085-48ee-b588-f8e188deb6af"
      },
      "execution_count": null,
      "outputs": [
        {
          "output_type": "stream",
          "name": "stdout",
          "text": [
            "Enter main string (s1): python programming\n",
            "Enter substring to check (s2): program\n",
            "True\n"
          ]
        }
      ]
    },
    {
      "cell_type": "markdown",
      "source": [
        "# **💻 20. Decimal to Binary**\n",
        "\n",
        "Objective:\n",
        "\n",
        "Convert a decimal number into binary format.\n",
        "\n",
        "Approach:\n",
        "\n",
        " Use Python’s built-in bin() and remove prefix.\n",
        "\n",
        "Challenge:\n",
        "\n",
        " Ensure binary output excludes '0b' prefix\n"
      ],
      "metadata": {
        "id": "W-HeIoopRsDq"
      }
    },
    {
      "cell_type": "code",
      "source": [
        "n = int(input(\"Enter a decimal number to convert: \"))\n",
        "print(\"Binary representation:\", bin(n)[2:])"
      ],
      "metadata": {
        "colab": {
          "base_uri": "https://localhost:8080/"
        },
        "id": "62c2iwjaRf7w",
        "outputId": "1e677b84-82b4-471d-a01d-2abd1027f72e"
      },
      "execution_count": null,
      "outputs": [
        {
          "output_type": "stream",
          "name": "stdout",
          "text": [
            "Enter a decimal number to convert: 25\n",
            "Binary representation: 11001\n"
          ]
        }
      ]
    },
    {
      "cell_type": "markdown",
      "source": [
        "# **➕ 21. Matrix Addition**\n",
        "\n",
        "Objective:\n",
        "\n",
        " Add two matrices with identical dimensions.\n",
        "\n",
        "Approach:\n",
        "\n",
        "Loop through each row and column and sum corresponding values.\n",
        "\n",
        "Challenge:\n",
        "\n",
        " Validate equal size of both matrices.\n"
      ],
      "metadata": {
        "id": "znnlBq3DSgL6"
      }
    },
    {
      "cell_type": "code",
      "source": [
        "# Dimensions\n",
        "rows = int(input(\"Enter number of rows: \"))\n",
        "cols = int(input(\"Enter number of columns: \"))\n",
        "\n",
        "print(\"Enter elements of Matrix A (one element at a time):\")\n",
        "A = [[int(input(f\"A[{i}][{j}]: \")) for j in range(cols)] for i in range(rows)]\n",
        "\n",
        "print(\"Enter elements of Matrix B (one element at a time):\")\n",
        "B = [[int(input(f\"B[{i}][{j}]: \")) for j in range(cols)] for i in range(rows)]\n",
        "\n",
        "# Result matrix\n",
        "result = []\n",
        "for i in range(rows):\n",
        "    row = []\n",
        "    for j in range(cols):\n",
        "        row.append(A[i][j] + B[i][j])\n",
        "    result.append(row)\n",
        "\n",
        "print(\"Resulting Matrix after Addition:\")\n",
        "for row in result:\n",
        "    print(row)"
      ],
      "metadata": {
        "colab": {
          "base_uri": "https://localhost:8080/"
        },
        "id": "GfWeK5uhSSjB",
        "outputId": "93ae6859-5445-4dd1-a81d-e2298bb1affc"
      },
      "execution_count": null,
      "outputs": [
        {
          "output_type": "stream",
          "name": "stdout",
          "text": [
            "Enter number of rows: 2\n",
            "Enter number of columns: 2\n",
            "Enter elements of Matrix A (one element at a time):\n",
            "A[0][0]: 1\n",
            "A[0][1]: 2\n",
            "A[1][0]: 3\n",
            "A[1][1]: 4\n",
            "Enter elements of Matrix B (one element at a time):\n",
            "B[0][0]: 5\n",
            "B[0][1]: 6\n",
            "B[1][0]: 7\n",
            "B[1][1]: 8\n",
            "Resulting Matrix after Addition:\n",
            "[6, 8]\n",
            "[10, 12]\n"
          ]
        }
      ]
    },
    {
      "cell_type": "markdown",
      "source": [
        "# ✖️ **22. Matrix Multiplication**\n",
        "\n",
        "Objective:\n",
        "2\n",
        "Multiply two matrices.\n",
        "\n",
        "Approach:\n",
        "\n",
        " Use triple nested loops.\n",
        "\n",
        "Challenge:\n",
        "\n",
        " Validate dimensions: cols_A == rows_B.\n"
      ],
      "metadata": {
        "id": "FASWzkT7TDS-"
      }
    },
    {
      "cell_type": "code",
      "source": [
        "# Matrix A\n",
        "rows_A = int(input(\"Enter rows of Matrix A: \"))\n",
        "cols_A = int(input(\"Enter columns of Matrix A: \"))\n",
        "print(\"Enter elements of Matrix A (one element at a time):\")\n",
        "A = [[int(input(f\"A[{i}][{j}]: \")) for j in range(cols_A)] for i in range(rows_A)]\n",
        "\n",
        "# Matrix B\n",
        "rows_B = cols_A  # Must match A's column count\n",
        "cols_B = int(input(\"Enter columns of Matrix B: \"))\n",
        "print(\"Enter elements of Matrix B (one element at a time):\")\n",
        "B = [[int(input(f\"B[{i}][{j}]: \")) for j in range(cols_B)] for i in range(rows_B)]\n",
        "\n",
        "# Multiply\n",
        "result = []\n",
        "for i in range(rows_A):\n",
        "    row = []\n",
        "    for j in range(cols_B):\n",
        "        sum_val = 0\n",
        "        for k in range(cols_A):\n",
        "            sum_val += A[i][k] * B[k][j]\n",
        "        row.append(sum_val)\n",
        "    result.append(row)\n",
        "\n",
        "print(\"Product Matrix:\")\n",
        "for row in result:\n",
        "    print(row)"
      ],
      "metadata": {
        "colab": {
          "base_uri": "https://localhost:8080/"
        },
        "id": "eO5-hM7jSvQB",
        "outputId": "0116c094-f916-49bd-a640-0acc45abc3fb"
      },
      "execution_count": null,
      "outputs": [
        {
          "output_type": "stream",
          "name": "stdout",
          "text": [
            "Enter rows of Matrix A: 2\n",
            "Enter columns of Matrix A: 2\n",
            "Enter elements of Matrix A (one element at a time):\n",
            "A[0][0]: 1\n",
            "A[0][1]: 2\n",
            "A[1][0]: 3\n",
            "A[1][1]: 4\n",
            "Enter columns of Matrix B: 2\n",
            "Enter elements of Matrix B (one element at a time):\n",
            "B[0][0]: 1\n",
            "B[0][1]: 2\n",
            "B[1][0]: 3\n",
            "B[1][1]: 4\n",
            "Product Matrix:\n",
            "[7, 10]\n",
            "[15, 22]\n"
          ]
        }
      ]
    },
    {
      "cell_type": "markdown",
      "source": [
        "# **🥈 23. Find Second Largest**\n",
        "\n",
        "Objective:\n",
        "\n",
        " Find the second largest number from a list of integers.\n",
        "\n",
        "Approach:\n",
        "\n",
        "Remove duplicates, sort list in descending order, then select second element.\n",
        "\n",
        "Challenge:\n",
        "\n",
        " Edge case with less than two unique elements.\n"
      ],
      "metadata": {
        "id": "pjeOCdnrWlxA"
      }
    },
    {
      "cell_type": "code",
      "source": [
        "nums = list(map(int, input(\"Enter integers separated by space: \").split()))\n",
        "\n",
        "unique = list(set(nums))\n",
        "unique.sort(reverse=True)\n",
        "\n",
        "if len(unique) >= 2:\n",
        "    print(\"Second largest number is:\", unique[1])\n",
        "else:\n",
        "    print(\"Not enough unique values.\")"
      ],
      "metadata": {
        "colab": {
          "base_uri": "https://localhost:8080/"
        },
        "id": "p9qBd5_EWcj7",
        "outputId": "4263f1fa-d240-48d0-9de7-7d37a2dfce73"
      },
      "execution_count": null,
      "outputs": [
        {
          "output_type": "stream",
          "name": "stdout",
          "text": [
            "Enter integers separated by space: 10 45 33 20 50\n",
            "Second largest number is: 45\n"
          ]
        }
      ]
    },
    {
      "cell_type": "markdown",
      "source": [
        "# **🔤 24. Check Anagram**\n",
        "\n",
        "Objective:\n",
        "\n",
        " Determine if two strings are anagrams.\n",
        "\n",
        "Approach:\n",
        "\n",
        "Normalize both strings and compare sorted versions.\n",
        "\n",
        "Challenge:\n",
        "\n",
        " Remove spaces, normalize case, and handle edge characters.\n"
      ],
      "metadata": {
        "id": "EwwoyoC2XDTX"
      }
    },
    {
      "cell_type": "code",
      "source": [
        "s1 = input(\"Enter first string: \").replace(\" \", \"\").lower()\n",
        "s2 = input(\"Enter second string: \").replace(\" \", \"\").lower()\n",
        "\n",
        "print(\"Are anagrams:\", sorted(s1) == sorted(s2))"
      ],
      "metadata": {
        "colab": {
          "base_uri": "https://localhost:8080/"
        },
        "id": "N4Ki0NiZWjbA",
        "outputId": "1eac985d-f211-49ba-b596-388c727eafed"
      },
      "execution_count": null,
      "outputs": [
        {
          "output_type": "stream",
          "name": "stdout",
          "text": [
            "Enter first string: listen\n",
            "Enter second string: silent\n",
            "Are anagrams: True\n"
          ]
        }
      ]
    },
    {
      "cell_type": "markdown",
      "source": [
        "# **🎮 3. AI-Based Tic-Tac-Toe Using Minimax**\n",
        "✅ Objective\n",
        "\n",
        "Create a playable Tic-Tac-Toe game where a human competes against the computer (AI). The AI must make optimal moves using the Minimax algorithm.\n",
        "\n",
        "🛠️ Approach\n",
        "\n",
        "- Represent the board as a 3×3 list.\n",
        "- Let the user be 'X' and AI be 'O'.\n",
        "- Use the minimax algorithm to recursively simulate all possible outcomes.\n",
        "- Score each state: +1 for AI win, -1 for user win, 0 for draw.\n",
        "- AI selects the move with the best score.\n",
        "\n",
        "⚡ Challenges\n",
        "\n",
        "- Correct recursive implementation of minimax.\n",
        "- Handling full-board and winning conditions.\n",
        "- Ensuring a smooth user experience with input validation.\n"
      ],
      "metadata": {
        "id": "fgcKAz1fX1RK"
      }
    },
    {
      "cell_type": "code",
      "source": [
        "import math\n",
        "\n",
        "# Initialize an empty board\n",
        "board = [[' ' for _ in range(3)] for _ in range(3)]\n",
        "\n",
        "# Print the current board state\n",
        "def print_board():\n",
        "    print(\"\\nCurrent board:\")\n",
        "    for row in board:\n",
        "        print(\" | \".join(row))\n",
        "        print(\"-\" * 5)\n",
        "\n",
        "# Check for a winner\n",
        "def check_winner():\n",
        "    win_conditions = [\n",
        "        # Rows\n",
        "        [board[0][0], board[0][1], board[0][2]],\n",
        "        [board[1][0], board[1][1], board[1][2]],\n",
        "        [board[2][0], board[2][1], board[2][2]],\n",
        "        # Columns\n",
        "        [board[0][0], board[1][0], board[2][0]],\n",
        "        [board[0][1], board[1][1], board[2][1]],\n",
        "        [board[0][2], board[1][2], board[2][2]],\n",
        "        # Diagonals\n",
        "        [board[0][0], board[1][1], board[2][2]],\n",
        "        [board[0][2], board[1][1], board[2][0]],\n",
        "    ]\n",
        "    for line in win_conditions:\n",
        "        if line[0] == line[1] == line[2] and line[0] != ' ':\n",
        "            return line[0]\n",
        "    return None\n",
        "\n",
        "# Check if board is full\n",
        "def is_full():\n",
        "    return all(cell != ' ' for row in board for cell in row)\n",
        "\n",
        "# Minimax algorithm\n",
        "def minimax(depth, is_maximizing):\n",
        "    winner = check_winner()\n",
        "    if winner == 'O':\n",
        "        return 1\n",
        "    elif winner == 'X':\n",
        "        return -1\n",
        "    elif is_full():\n",
        "        return 0\n",
        "\n",
        "    if is_maximizing:\n",
        "        best_score = -math.inf\n",
        "        for i in range(3):\n",
        "            for j in range(3):\n",
        "                if board[i][j] == ' ':\n",
        "                    board[i][j] = 'O'\n",
        "                    score = minimax(depth + 1, False)\n",
        "                    board[i][j] = ' '\n",
        "                    best_score = max(score, best_score)\n",
        "        return best_score\n",
        "    else:\n",
        "        best_score = math.inf\n",
        "        for i in range(3):\n",
        "            for j in range(3):\n",
        "                if board[i][j] == ' ':\n",
        "                    board[i][j] = 'X'\n",
        "                    score = minimax(depth + 1, True)\n",
        "                    board[i][j] = ' '\n",
        "                    best_score = min(score, best_score)\n",
        "        return best_score\n",
        "\n",
        "# Get best move for AI\n",
        "def get_best_move():\n",
        "    best_score = -math.inf\n",
        "    move = None\n",
        "    for i in range(3):\n",
        "        for j in range(3):\n",
        "            if board[i][j] == ' ':\n",
        "                board[i][j] = 'O'\n",
        "                score = minimax(0, False)\n",
        "                board[i][j] = ' '\n",
        "                if score > best_score:\n",
        "                    best_score = score\n",
        "                    move = (i, j)\n",
        "    return move\n",
        "\n",
        "# Main gameplay loop\n",
        "print(\"Welcome to Tic-Tac-Toe!\")\n",
        "print(\"You are X, AI is O\")\n",
        "\n",
        "while True:\n",
        "    print_board()\n",
        "\n",
        "    # Check for end of game\n",
        "    if check_winner():\n",
        "        print(\"Winner:\", check_winner())\n",
        "        break\n",
        "    elif is_full():\n",
        "        print(\"It's a draw!\")\n",
        "        break\n",
        "\n",
        "    # Player move\n",
        "    try:\n",
        "        row = int(input(\"Enter your row (0-2): \"))\n",
        "        col = int(input(\"Enter your column (0-2): \"))\n",
        "        if board[row][col] != ' ':\n",
        "            print(\"Invalid move! Cell already taken.\")\n",
        "            continue\n",
        "        board[row][col] = 'X'\n",
        "    except (IndexError, ValueError):\n",
        "        print(\"Please enter valid row and column numbers between 0 and 2.\")\n",
        "        continue\n",
        "\n",
        "    # AI move\n",
        "    if not check_winner() and not is_full():\n",
        "        ai_move = get_best_move()\n",
        "        if ai_move:\n",
        "            board[ai_move[0]][ai_move[1]] = 'O'\n",
        "            print(f\"AI plays at ({ai_move[0]}, {ai_move[1]})\")"
      ],
      "metadata": {
        "colab": {
          "base_uri": "https://localhost:8080/"
        },
        "id": "9RYVyKgdXMzW",
        "outputId": "7060d99b-13e3-426c-c73d-5a4d1818ee96"
      },
      "execution_count": null,
      "outputs": [
        {
          "output_type": "stream",
          "name": "stdout",
          "text": [
            "Welcome to Tic-Tac-Toe!\n",
            "You are X, AI is O\n",
            "\n",
            "Current board:\n",
            "  |   |  \n",
            "-----\n",
            "  |   |  \n",
            "-----\n",
            "  |   |  \n",
            "-----\n",
            "Enter your row (0-2): 0\n",
            "Enter your column (0-2): 0\n",
            "AI plays at (1, 1)\n",
            "\n",
            "Current board:\n",
            "X |   |  \n",
            "-----\n",
            "  | O |  \n",
            "-----\n",
            "  |   |  \n",
            "-----\n",
            "Enter your row (0-2): 0\n",
            "Enter your column (0-2): 1\n",
            "AI plays at (0, 2)\n",
            "\n",
            "Current board:\n",
            "X | X | O\n",
            "-----\n",
            "  | O |  \n",
            "-----\n",
            "  |   |  \n",
            "-----\n",
            "Enter your row (0-2): 2\n",
            "Enter your column (0-2): 0\n",
            "AI plays at (1, 0)\n",
            "\n",
            "Current board:\n",
            "X | X | O\n",
            "-----\n",
            "O | O |  \n",
            "-----\n",
            "X |   |  \n",
            "-----\n",
            "Enter your row (0-2): 1\n",
            "Enter your column (0-2): 2\n",
            "AI plays at (2, 1)\n",
            "\n",
            "Current board:\n",
            "X | X | O\n",
            "-----\n",
            "O | O | X\n",
            "-----\n",
            "X | O |  \n",
            "-----\n",
            "Enter your row (0-2): 2\n",
            "Enter your column (0-2): 2\n",
            "\n",
            "Current board:\n",
            "X | X | O\n",
            "-----\n",
            "O | O | X\n",
            "-----\n",
            "X | O | X\n",
            "-----\n",
            "It's a draw!\n"
          ]
        }
      ]
    },
    {
      "cell_type": "code",
      "source": [],
      "metadata": {
        "id": "HAlVVKT9YRiB"
      },
      "execution_count": null,
      "outputs": []
    }
  ]
}