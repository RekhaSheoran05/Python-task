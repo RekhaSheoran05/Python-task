{
  "nbformat": 4,
  "nbformat_minor": 0,
  "metadata": {
    "colab": {
      "provenance": [],
      "authorship_tag": "ABX9TyNv2JUrk+Nw25G+1T7yt8qT",
      "include_colab_link": true
    },
    "kernelspec": {
      "name": "python3",
      "display_name": "Python 3"
    },
    "language_info": {
      "name": "python"
    }
  },
  "cells": [
    {
      "cell_type": "markdown",
      "metadata": {
        "id": "view-in-github",
        "colab_type": "text"
      },
      "source": [
        "<a href=\"https://colab.research.google.com/github/RekhaSheoran05/Python-task/blob/main/python_task2.ipynb\" target=\"_parent\"><img src=\"https://colab.research.google.com/assets/colab-badge.svg\" alt=\"Open In Colab\"/></a>"
      ]
    },
    {
      "cell_type": "markdown",
      "source": [
        "# 🐍 Python Developer – Task 2\n",
        "\n",
        "Submitted by: REKHA SHEORAN\n",
        "\n",
        "Platform: Google Colab\n",
        "\n",
        "Institute: Main Flow Services and Technologies Pvt. Ltd.\n",
        "\n",
        "# 📘 Project Overview\n",
        "\n",
        "This notebook contains Python solutions for the following problems:\n",
        "- Prime Number Checker\n",
        "- Sum of Digits\n",
        "- LCM and GCD Calculator\n",
        "- List Reversal\n",
        "- List Sorting\n",
        "- Remove Duplicates from List\n",
        "- String Length\n",
        "- Count Vowels and Consonants\n",
        "- Maze Generator and Solver\n",
        "\n",
        "Each task includes its Objective, Approach, Challenges, and Output in the respective section. All implementations are interactive, take user input, and follow the constraints provided in the task brief.\n",
        "\n"
      ],
      "metadata": {
        "id": "OI0xukxmeFze"
      }
    },
    {
      "cell_type": "markdown",
      "source": [
        "# 🔢 Task 9: Prime Number\n",
        "\n",
        "Objective:\n",
        "Determine if a given number is prime.\n",
        "\n",
        "Approach:\n",
        "Check if the number has any divisors other than 1 and itself by testing up to its square root.\n",
        "\n",
        "Challenges:\n",
        "Handling edge cases (like 0, 1, and negative numbers) and optimizing for large inputs.\n",
        "\n"
      ],
      "metadata": {
        "id": "k6N_TR0eEXsF"
      }
    },
    {
      "cell_type": "code",
      "source": [
        "n = int(input(\"Enter a number to check if it's prime: \"))\n",
        "is_prime = True\n",
        "\n",
        "if n < 2:\n",
        "    is_prime = False\n",
        "else:\n",
        "    for i in range(2, int(n**0.5)+1):\n",
        "        if n % i == 0:\n",
        "            is_prime = False\n",
        "            break\n",
        "\n",
        "print(\"Is Prime:\", is_prime)"
      ],
      "metadata": {
        "colab": {
          "base_uri": "https://localhost:8080/"
        },
        "id": "QL2MuGFfEPd5",
        "outputId": "cc7f61a7-c177-43c8-ea28-c068491001e4"
      },
      "execution_count": null,
      "outputs": [
        {
          "output_type": "stream",
          "name": "stdout",
          "text": [
            "Enter a number to check if it's prime: 77\n",
            "Is Prime: False\n"
          ]
        }
      ]
    },
    {
      "cell_type": "markdown",
      "source": [
        "# 🔢 Task 10: Sum of Digits\n",
        "\n",
        "Objective:\n",
        "Calculate the sum of digits in a number.\n",
        "\n",
        "Approach:\n",
        "Convert to string, iterate through digits, and sum.\n",
        "\n",
        "Challenges:\n",
        "Handle negative numbers and non-integer inputs.\n"
      ],
      "metadata": {
        "id": "Dj76BKcpGll3"
      }
    },
    {
      "cell_type": "code",
      "source": [
        "n = int(input(\"Enter a number to find the sum of digits: \"))\n",
        "n = abs(n)\n",
        "digit_sum = 0\n",
        "\n",
        "for digit in str(n):\n",
        "    digit_sum += int(digit)\n",
        "\n",
        "print(\"Sum of digits:\", digit_sum)"
      ],
      "metadata": {
        "colab": {
          "base_uri": "https://localhost:8080/"
        },
        "id": "byff7eNwGlKi",
        "outputId": "05ee0652-105a-43f3-8010-13fc61ad0deb"
      },
      "execution_count": null,
      "outputs": [
        {
          "output_type": "stream",
          "name": "stdout",
          "text": [
            "Enter a number to find the sum of digits: 634\n",
            "Sum of digits: 13\n"
          ]
        }
      ]
    },
    {
      "cell_type": "markdown",
      "source": [
        "# 🔢 Task 11: LCM and GCD\n",
        "\n",
        "Objective:\n",
        "Compute the Least Common Multiple and Greatest Common Divisor of two integers.\n",
        "\n",
        "Approach:\n",
        "Use math.gcd() and LCM = abs(a*b) // gcd.\n",
        "\n",
        "Challenges:\n",
        "Edge cases like zeros.\n"
      ],
      "metadata": {
        "id": "1PU6AAX_ICR1"
      }
    },
    {
      "cell_type": "code",
      "execution_count": null,
      "metadata": {
        "id": "roGp_HJu6DEF",
        "colab": {
          "base_uri": "https://localhost:8080/"
        },
        "outputId": "b7e71a4d-8159-47e4-b79c-86bf46309c76"
      },
      "outputs": [
        {
          "output_type": "stream",
          "name": "stdout",
          "text": [
            "Enter first number: 66\n",
            "Enter second number: 7\n",
            "GCD: 1\n",
            "LCM: 462\n"
          ]
        }
      ],
      "source": [
        "import math\n",
        "\n",
        "a = int(input(\"Enter first number: \"))\n",
        "b = int(input(\"Enter second number: \"))\n",
        "\n",
        "gcd = math.gcd(a, b)\n",
        "lcm = abs(a * b) // gcd if a and b else 0\n",
        "\n",
        "print(\"GCD:\", gcd)\n",
        "print(\"LCM:\", lcm)"
      ]
    },
    {
      "cell_type": "markdown",
      "source": [
        "# 🔢 Task 12: List Reversal\n",
        "\n",
        "Objective:\n",
        "Reverse a list manually.\n",
        "\n",
        "Approach:\n",
        "Swap elements from both ends.\n",
        "\n",
        "Challenges:\n",
        "Edge cases like empty or single-item lists.\n"
      ],
      "metadata": {
        "id": "nrS2XtgZJE3f"
      }
    },
    {
      "cell_type": "code",
      "source": [
        "lst = list(map(int, input(\"Enter list elements separated by space: \").split()))\n",
        "length = len(lst)\n",
        "\n",
        "for i in range(length // 2):\n",
        "    lst[i], lst[length - i - 1] = lst[length - i - 1], lst[i]\n",
        "\n",
        "print(\"Reversed list:\", lst)"
      ],
      "metadata": {
        "colab": {
          "base_uri": "https://localhost:8080/"
        },
        "id": "RjU3iWamFE6L",
        "outputId": "6bacbaa8-e7c4-4444-f1b6-2a06117ec2f0"
      },
      "execution_count": null,
      "outputs": [
        {
          "output_type": "stream",
          "name": "stdout",
          "text": [
            "Enter list elements separated by space: 1 2 3 4 5\n",
            "Reversed list: [5, 4, 3, 2, 1]\n"
          ]
        }
      ]
    },
    {
      "cell_type": "markdown",
      "source": [
        "# 🔢  Task 13: Sort a List\n",
        "\n",
        "Objective:\n",
        "Sort a list in ascending order.\n",
        "\n",
        "Approach:\n",
        "Use bubble sort for learning purposes.\n",
        "\n",
        "Challenges:\n",
        "Performance on large lists.\n"
      ],
      "metadata": {
        "id": "QPIZO2QyJ2p5"
      }
    },
    {
      "cell_type": "code",
      "source": [
        "lst = list(map(int, input(\"Enter list elements to sort: \").split()))\n",
        "n = len(lst)\n",
        "\n",
        "for i in range(n):\n",
        "    for j in range(n - i - 1):\n",
        "        if lst[j] > lst[j+1]:\n",
        "            lst[j], lst[j+1] = lst[j+1], lst[j]\n",
        "\n",
        "\n",
        "\n",
        "print(\"Sorted list:\", lst)"
      ],
      "metadata": {
        "colab": {
          "base_uri": "https://localhost:8080/"
        },
        "id": "x-Xx_Ak2GKWa",
        "outputId": "5d84ca15-9d3f-4c50-e77a-378e55045d6a"
      },
      "execution_count": null,
      "outputs": [
        {
          "output_type": "stream",
          "name": "stdout",
          "text": [
            "Enter list elements to sort: 9 3 1 5 2 6\n",
            "Sorted list: [1, 2, 3, 5, 6, 9]\n"
          ]
        }
      ]
    },
    {
      "cell_type": "markdown",
      "source": [
        "# 🔢Task 14: Remove Duplicates\n",
        "\n",
        "Objective:\n",
        "Remove duplicate elements while preserving order.\n",
        "\n",
        "Approach:\n",
        "Track seen elements and only add unique ones.\n",
        "\n",
        "Challenges:\n",
        "Efficiency and order retention\n"
      ],
      "metadata": {
        "id": "AJAYCeYjJ1W4"
      }
    },
    {
      "cell_type": "code",
      "source": [
        "lst = list(map(int, input(\"Enter list elements with duplicates: \").split()))\n",
        "seen = set()\n",
        "unique = []\n",
        "\n",
        "for item in lst:\n",
        "    if item not in seen:\n",
        "        unique.append(item)\n",
        "        seen.add(item)\n",
        "\n",
        "print(\"Unique elements:\", unique)"
      ],
      "metadata": {
        "colab": {
          "base_uri": "https://localhost:8080/"
        },
        "id": "5ZBKh2EC2-OS",
        "outputId": "509a656e-1f53-4e5d-fb66-95992da39487"
      },
      "execution_count": null,
      "outputs": [
        {
          "output_type": "stream",
          "name": "stdout",
          "text": [
            "Enter list elements with duplicates: 1 5 2 1 6 13 3 3\n",
            "Unique elements: [1, 5, 2, 6, 13, 3]\n"
          ]
        }
      ]
    },
    {
      "cell_type": "markdown",
      "source": [
        "# 🔡 Task 15: String Length (No len())\n",
        "\n",
        "Objective:\n",
        "Count the number of characters in a string.\n",
        "\n",
        "Approach:\n",
        "Iterate and count manually.\n",
        "\n",
        "Challenges:\n",
        "Include spaces and special characters.\n"
      ],
      "metadata": {
        "id": "j_pYNjRR3I8V"
      }
    },
    {
      "cell_type": "code",
      "source": [
        "s = input(\"Enter a string: \")\n",
        "count = 0\n",
        "\n",
        "for char in s:\n",
        "    count += 1\n",
        "\n",
        "print(\"String length:\", count)"
      ],
      "metadata": {
        "colab": {
          "base_uri": "https://localhost:8080/"
        },
        "id": "6tuP4dzL2_9Q",
        "outputId": "acc99ea5-5d4d-4d75-85ea-b379327e5bde"
      },
      "execution_count": null,
      "outputs": [
        {
          "output_type": "stream",
          "name": "stdout",
          "text": [
            "Enter a string: Python programming\n",
            "String length: 18\n"
          ]
        }
      ]
    },
    {
      "cell_type": "markdown",
      "source": [
        "# 🔡 Task 16: Count Vowels and Consonants\n",
        "\n",
        "Objective:\n",
        "Identify number of vowels and consonants.\n",
        "\n",
        "Approach:\n",
        "Loop through string and classify alphabetic characters.\n",
        "\n",
        "Challenges:\n",
        "Ignore non-alphabet characters and case sensitivity.\n"
      ],
      "metadata": {
        "id": "KnqdsgzZ4r6n"
      }
    },
    {
      "cell_type": "code",
      "source": [
        "s = input(\"Enter a string to count vowels and consonants: \")\n",
        "vowels = \"aeiouAEIOU\"\n",
        "v_count = 0\n",
        "c_count = 0\n",
        "\n",
        "for char in s:\n",
        "    if char.isalpha():\n",
        "        if char in vowels:\n",
        "            v_count += 1\n",
        "        else:\n",
        "            c_count += 1\n",
        "\n",
        "print(\"Vowels:\", v_count)\n",
        "print(\"Consonants:\", c_count)"
      ],
      "metadata": {
        "colab": {
          "base_uri": "https://localhost:8080/"
        },
        "id": "z9wm64X93TuJ",
        "outputId": "ff31ce5f-b9a1-4ccf-efc3-8abda0e639cd"
      },
      "execution_count": null,
      "outputs": [
        {
          "output_type": "stream",
          "name": "stdout",
          "text": [
            "Enter a string to count vowels and consonants: hello everyone\n",
            "Vowels: 6\n",
            "Consonants: 7\n"
          ]
        }
      ]
    },
    {
      "cell_type": "markdown",
      "source": [
        "#   🔡 2 : Maze Generator & Solver\n",
        "- Objective: Create and solve a maze using DFS/BFS.\n",
        "- Approach:\n",
        "- Represent maze using nested lists (2D grid).\n",
        "- Generate maze via randomized DFS.\n",
        "- Solve it using DFS or BFS traversal.\n",
        "- Challenges:\n",
        "- Ensuring the maze is solvable.\n",
        "- Avoiding infinite loops in recursion.\n",
        "- Restriction: No external visualization libraries.\n"
      ],
      "metadata": {
        "id": "GqGXdix7TpNe"
      }
    },
    {
      "cell_type": "code",
      "source": [
        "import random\n",
        "from collections import deque\n",
        "\n",
        "# 📥 Step 1: User Input for Maze Size\n",
        "rows = int(input(\"Enter number of rows (odd number ≥ 5): \"))\n",
        "cols = int(input(\"Enter number of columns (odd number ≥ 5): \"))\n",
        "\n",
        "# Ensure dimensions are odd\n",
        "if rows % 2 == 0: rows += 1\n",
        "if cols % 2 == 0: cols += 1\n",
        "\n",
        "# 🧱 Step 2: Initialize Maze with Walls (1)\n",
        "maze = [[1 for _ in range(cols)] for _ in range(rows)]\n",
        "\n",
        "# 🪓 Step 3: Recursive DFS to Carve Maze\n",
        "def carve_maze(r, c):\n",
        "    directions = [(0, 2), (2, 0), (0, -2), (-2, 0)]\n",
        "    random.shuffle(directions)\n",
        "    for dr, dc in directions:\n",
        "        nr, nc = r + dr, c + dc\n",
        "        if 1 <= nr < rows - 1 and 1 <= nc < cols - 1 and maze[nr][nc] == 1:\n",
        "            maze[r + dr // 2][c + dc // 2] = 0\n",
        "            maze[nr][nc] = 0\n",
        "            carve_maze(nr, nc)\n",
        "\n",
        "# Start carving from (1,1)\n",
        "maze[1][1] = 0\n",
        "carve_maze(1, 1)\n",
        "\n",
        "# 🎯 Step 4: Define Start and End\n",
        "start = (1, 1)\n",
        "end = (rows - 2, cols - 2)\n",
        "maze[end[0]][end[1]] = 0\n",
        "\n",
        "# 🧭 Step 5: Solve Maze with BFS and Trace Path\n",
        "def solve_and_trace(maze, start, end):\n",
        "    queue = deque([start])\n",
        "    visited = [[False]*cols for _ in range(rows)]\n",
        "    parent = [[None]*cols for _ in range(rows)]\n",
        "    visited[start[0]][start[1]] = True\n",
        "\n",
        "    while queue:\n",
        "        r, c = queue.popleft()\n",
        "        if (r, c) == end:\n",
        "            break\n",
        "        for dr, dc in [(0,1), (1,0), (0,-1), (-1,0)]:\n",
        "            nr, nc = r + dr, c + dc\n",
        "            if 0 <= nr < rows and 0 <= nc < cols and maze[nr][nc] == 0 and not visited[nr][nc]:\n",
        "                visited[nr][nc] = True\n",
        "                parent[nr][nc] = (r, c)\n",
        "                queue.append((nr, nc))\n",
        "\n",
        "    # Trace back the path from end to start\n",
        "    r, c = end\n",
        "    while parent[r][c] is not None:\n",
        "        if (r, c) != start and (r, c) != end:\n",
        "            maze[r][c] = \".\"\n",
        "        r, c = parent[r][c]\n",
        "\n",
        "# Solve and trace the path\n",
        "solve_and_trace(maze, start, end)\n",
        "\n",
        "# 🖼️ Step 6: Display the Maze\n",
        "print(\"\\n🧩 Maze Layout (1 = Wall, 0 = Path, . = Solution Path):\\n\")\n",
        "for row in maze:\n",
        "    print(\"\".join(\n",
        "        \"█\" if cell == 1 else \".\" if cell == \".\" else \" \" for cell in row\n",
        "    ))\n",
        "\n",
        "print(\"\\n✅ Maze generated and solved with path traced!\")"
      ],
      "metadata": {
        "colab": {
          "base_uri": "https://localhost:8080/"
        },
        "id": "OoZk9zbkT2dF",
        "outputId": "612a8f02-dc07-47f7-dc5e-91ae14c52141"
      },
      "execution_count": null,
      "outputs": [
        {
          "output_type": "stream",
          "name": "stdout",
          "text": [
            "Enter number of rows (odd number ≥ 5): 12\n",
            "Enter number of columns (odd number ≥ 5): 19\n",
            "\n",
            "🧩 Maze Layout (1 = Wall, 0 = Path, . = Solution Path):\n",
            "\n",
            "███████████████████\n",
            "█ █  .....█       █\n",
            "█.███.███.█ █████ █\n",
            "█.....█...█ █ █   █\n",
            "███████.███ █ █ ███\n",
            "█     █...█ █     █\n",
            "█ ███████.█ ███████\n",
            "█   █.....█       █\n",
            "█ █ █.█████████ █ █\n",
            "█ █ █...█  ...█ █ █\n",
            "█ █ ███.███.█.███ █\n",
            "█ █    .....█.... █\n",
            "███████████████████\n",
            "\n",
            "✅ Maze generated and solved with path traced!\n"
          ]
        }
      ]
    }
  ]
}