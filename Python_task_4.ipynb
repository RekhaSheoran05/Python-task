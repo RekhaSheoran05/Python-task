{
  "nbformat": 4,
  "nbformat_minor": 0,
  "metadata": {
    "colab": {
      "provenance": []
    },
    "kernelspec": {
      "name": "python3",
      "display_name": "Python 3"
    },
    "language_info": {
      "name": "python"
    }
  },
  "cells": [
    {
      "cell_type": "markdown",
      "source": [
        "#  🐍 Python Developer – Task 4  \n",
        "**Submitted by:** REKHA SHEORAN  \n",
        "**Platform:** Google Colab  \n",
        "**Institute:** Main Flow Services and Technologies Pvt. Ltd.\n",
        "\n",
        "---\n",
        "\n",
        "# 📌 **Project Overview**\n",
        "\n",
        "This notebook contains Python solutions for the following problems:\n",
        "\n",
        "- Find Missing Number in a Sequence  \n",
        "- Balanced Parentheses Checker  \n",
        "- Longest Word in a Sentence  \n",
        "- Word Count in a Sentence  \n",
        "- Pythagorean Triplet Checker  \n",
        "- Bubble Sort Implementation  \n",
        "- Binary Search in a Sorted List  \n",
        "- Subarray with Given Sum Finder  \n",
        "- Log Analysis System (Top IPs, Status Codes, URLs)\n",
        "\n",
        "Each task includes its **Objective**, **Approach**, **Challenges**, and **Sample Output** in the respective section.\n",
        "\n",
        "---\n"
      ],
      "metadata": {
        "id": "D8cUfTdSI1rM"
      }
    },
    {
      "cell_type": "markdown",
      "source": [
        "#  25. Find Missing Number\n",
        "\n",
        "**Objective:**\n",
        "\n",
        " Identify the missing number in a list containing numbers from 1 to n+1.\n",
        "\n",
        "**Approach:**\n",
        "\n",
        " Use the formula \\text{Sum} = \\frac{(n+1)(n+2)}{2} and subtract the actual sum of the array.\n",
        "\n",
        "**Challenges:**\n",
        "\n",
        "- Index handling\n",
        "- Unsorted lists"
      ],
      "metadata": {
        "id": "hvSTgcm_Nx8G"
      }
    },
    {
      "cell_type": "code",
      "source": [
        "arr = list(map(int, input(\"Enter the numbers separated by space: \").split()))\n",
        "n = len(arr)\n",
        "expected_sum = (n + 1) * (n + 2) // 2\n",
        "missing = expected_sum - sum(arr)\n",
        "print(\"Missing number is:\", missing)"
      ],
      "metadata": {
        "colab": {
          "base_uri": "https://localhost:8080/"
        },
        "id": "5PdUNCJoNxe7",
        "outputId": "49e578e3-1318-45a6-9996-a6662f2523bf"
      },
      "execution_count": null,
      "outputs": [
        {
          "output_type": "stream",
          "name": "stdout",
          "text": [
            "Enter the numbers separated by space: 1 2 4 5\n",
            "Missing number is: 3\n"
          ]
        }
      ]
    },
    {
      "cell_type": "markdown",
      "source": [
        "#  26. Check Balanced Parentheses\n",
        "**Objective:**\n",
        "\n",
        "Verify if a string containing brackets is properly balanced.\n",
        "\n",
        "**Approach:**\n",
        "\n",
        "Use a stack to store opening brackets and pop when matching closing brackets are encountered.\n",
        "\n",
        "**Challenges:**\n",
        "\n",
        "- Handling different bracket types ((), {}, [])\n",
        "- Managing edge cases like unmatched brackets or empty input\n"
      ],
      "metadata": {
        "id": "HCiogwZnPs10"
      }
    },
    {
      "cell_type": "code",
      "execution_count": null,
      "metadata": {
        "colab": {
          "base_uri": "https://localhost:8080/"
        },
        "id": "ZLUY0L1CFmgH",
        "outputId": "b02b9c79-a6e2-4d5e-b9de-a6395fb354c7"
      },
      "outputs": [
        {
          "output_type": "stream",
          "name": "stdout",
          "text": [
            "Enter a string of brackets: {[()]}\n",
            "Balanced:\n"
          ]
        }
      ],
      "source": [
        "s = input(\"Enter a string of brackets: \")\n",
        "\n",
        "def is_balanced(s):\n",
        "    stack = []\n",
        "    pairs = {'(': ')', '{': '}', '[': ']'}\n",
        "    for char in s:\n",
        "        if char in pairs:\n",
        "            stack.append(char)\n",
        "        elif stack and char == pairs[stack[-1]]:\n",
        "            stack.pop()\n",
        "        else:\n",
        "            return False\n",
        "    return not stack\n",
        "\n",
        "print(\"Balanced:\" if is_balanced(s) else \"Not balanced.\")"
      ]
    },
    {
      "cell_type": "markdown",
      "source": [
        "#  27. Longest Word in a Sentence\n",
        "**Objective:**\n",
        "\n",
        "Determine the longest word in a user-provided sentence.\n",
        "\n",
        "**Approach:**\n",
        "\n",
        "Split the sentence into words using .split() and find the word with the maximum length using max().\n",
        "\n",
        "**Challenges:**\n",
        "\n",
        "- Ignoring punctuation attached to words\n",
        "- Handling multiple words of equal length\n"
      ],
      "metadata": {
        "id": "y8AvAuARP5Ow"
      }
    },
    {
      "cell_type": "code",
      "source": [
        "sentence = input(\"Enter a sentence: \")\n",
        "words = sentence.split()\n",
        "longest = max(words, key=len)\n",
        "print(\"Longest word:\", longest)"
      ],
      "metadata": {
        "colab": {
          "base_uri": "https://localhost:8080/"
        },
        "id": "RFOkQV1gPwWD",
        "outputId": "ea307ad9-29bf-4283-8120-7bf6213d23bd"
      },
      "execution_count": null,
      "outputs": [
        {
          "output_type": "stream",
          "name": "stdout",
          "text": [
            "Enter a sentence: python programming\n",
            "Longest word: programming\n"
          ]
        }
      ]
    },
    {
      "cell_type": "markdown",
      "source": [
        "#  28. Count Words in a Sentence\n",
        "**Objective:**\n",
        "Count total number of words in a sentence.\n",
        "\n",
        "**Approach:**\n",
        " Use the .split() function and count the resulting words.\n",
        "\n",
        "**Challenges:**\n",
        "\n",
        "- Leading/trailing whitespace\n",
        "- Empty string\n"
      ],
      "metadata": {
        "id": "28-a1Bk-QJ0i"
      }
    },
    {
      "cell_type": "code",
      "source": [
        "sentence = input(\"Enter a sentence: \")\n",
        "word_count = len(sentence.split())\n",
        "print(\"Word count:\", word_count)"
      ],
      "metadata": {
        "colab": {
          "base_uri": "https://localhost:8080/"
        },
        "id": "GGBaYPHIQDDD",
        "outputId": "de6ed7cb-e442-40d2-c2c7-a48c7c9a0f65"
      },
      "execution_count": null,
      "outputs": [
        {
          "output_type": "stream",
          "name": "stdout",
          "text": [
            "Enter a sentence: Pythn is a programming language\n",
            "Word count: 5\n"
          ]
        }
      ]
    },
    {
      "cell_type": "markdown",
      "source": [
        "#  29. Check Pythagorean Triplet\n",
        "**Objective:**\n",
        "\n",
        "Determine whether three numbers satisfy the Pythagorean triplet condition.\n",
        "\n",
        "**Approach:**\n",
        "\n",
        "Sort the numbers and check if a^2 + b^2 = c^2 where c is the largest value.\n",
        "\n",
        "**Challenges:**\n",
        "\n",
        "- Ensuring correct ordering\n",
        "- Handling negative numbers or zero\n"
      ],
      "metadata": {
        "id": "KNECM7GbQaew"
      }
    },
    {
      "cell_type": "code",
      "source": [
        "a, b, c = map(int, input(\"Enter three integers separated by space: \").split())\n",
        "x, y, z = sorted([a, b, c])\n",
        "print(\"Is Pythagorean Triplet:\", x**2 + y**2 == z**2)"
      ],
      "metadata": {
        "colab": {
          "base_uri": "https://localhost:8080/"
        },
        "id": "Dp2z9uCCQLc8",
        "outputId": "0a630d3c-1c52-4715-91ad-50851fd753ff"
      },
      "execution_count": null,
      "outputs": [
        {
          "output_type": "stream",
          "name": "stdout",
          "text": [
            "Enter three integers separated by space: 3 4 5\n",
            "Is Pythagorean Triplet: True\n"
          ]
        }
      ]
    },
    {
      "cell_type": "markdown",
      "source": [
        "# **30. Bubble Sort**\n",
        "**Objective:**\n",
        "\n",
        "Sort a list of integers using the bubble sort technique.\n",
        "\n",
        "**Approach:**\n",
        "\n",
        "Iterate through the list repeatedly, swapping adjacent elements if they are out of order.\n",
        "\n",
        "**Challenges:**\n",
        "\n",
        "- Time inefficiency with large datasets\n",
        "- Optimizing the number of passes for partially sorted lists\n"
      ],
      "metadata": {
        "id": "Hv168vytRTRd"
      }
    },
    {
      "cell_type": "code",
      "source": [
        "arr = list(map(int, input(\"Enter integers to sort separated by space: \").split()))\n",
        "\n",
        "def bubble_sort(arr):\n",
        "    n = len(arr)\n",
        "    for i in range(n):\n",
        "        for j in range(n - i - 1):\n",
        "            if arr[j] > arr[j + 1]:\n",
        "                arr[j], arr[j + 1] = arr[j + 1], arr[j]\n",
        "    return arr\n",
        "\n",
        "print(\"Sorted list:\", bubble_sort(arr))"
      ],
      "metadata": {
        "colab": {
          "base_uri": "https://localhost:8080/"
        },
        "id": "9LiV1r63RINu",
        "outputId": "a18aa5ff-f395-4ae0-d2d7-86d6ab9a98da"
      },
      "execution_count": null,
      "outputs": [
        {
          "output_type": "stream",
          "name": "stdout",
          "text": [
            "Enter integers to sort separated by space: 4 7 1 3 9 2\n",
            "Sorted list: [1, 2, 3, 4, 7, 9]\n"
          ]
        }
      ]
    },
    {
      "cell_type": "markdown",
      "source": [
        "#  31. Binary Search\n",
        "**Objective:**\n",
        "\n",
        "Find the index of a target value in a sorted list using binary search.\n",
        "\n",
        "**Approach:**\n",
        "\n",
        "Use pointers to divide the list and narrow down the target based on comparisons with the middle element.\n",
        "\n",
        "**Challenges:**\n",
        "\n",
        "- Only works on sorted data\n",
        "- Handling duplicates or missing values\n"
      ],
      "metadata": {
        "id": "GmQD1rY_RW2C"
      }
    },
    {
      "cell_type": "code",
      "source": [
        "arr = list(map(int, input(\"Enter a sorted list of integers: \").split()))\n",
        "target = int(input(\"Enter the target number: \"))\n",
        "\n",
        "def binary_search(arr, target):\n",
        "    left, right = 0, len(arr) - 1\n",
        "    while left <= right:\n",
        "        mid = (left + right) // 2\n",
        "        if arr[mid] == target:\n",
        "            return mid\n",
        "        elif arr[mid] < target:\n",
        "            left = mid + 1\n",
        "        else:\n",
        "            right = mid - 1\n",
        "    return -1\n",
        "\n",
        "result = binary_search(arr, target)\n",
        "print(\"Index of target:\", result)"
      ],
      "metadata": {
        "colab": {
          "base_uri": "https://localhost:8080/"
        },
        "id": "hGiF5btmRNEM",
        "outputId": "60d655a2-3f9d-4fff-86d7-20d0878a95d8"
      },
      "execution_count": null,
      "outputs": [
        {
          "output_type": "stream",
          "name": "stdout",
          "text": [
            "Enter a sorted list of integers: 1 3 2 5 6 9 4 8 \n",
            "Enter the target number: 4\n",
            "Index of target: -1\n"
          ]
        }
      ]
    },
    {
      "cell_type": "markdown",
      "source": [
        "# 32. Find Subarray with Given Sum\n",
        "**Objective:**\n",
        "\n",
        "Identify a contiguous subarray whose sum equals a specified target.\n",
        "\n",
        "**Approach:**\n",
        "\n",
        "Apply the sliding window method to track and adjust the running sum.\n",
        "\n",
        "**Challenges:**\n",
        "\n",
        "- Supporting negative numbers\n",
        "- Handling cases with no valid subarray\n"
      ],
      "metadata": {
        "id": "fNCcNbE8RrEI"
      }
    },
    {
      "cell_type": "code",
      "source": [
        "arr = list(map(int, input(\"Enter a list of integers: \").split()))\n",
        "target = int(input(\"Enter the target sum: \"))\n",
        "\n",
        "def find_subarray_with_sum(arr, target):\n",
        "    start, current_sum = 0, 0\n",
        "    for end in range(len(arr)):\n",
        "        current_sum += arr[end]\n",
        "        while current_sum > target and start <= end:\n",
        "            current_sum -= arr[start]\n",
        "            start += 1\n",
        "        if current_sum == target:\n",
        "            return (start, end)\n",
        "    return -1\n",
        "\n",
        "print(\"Subarray indices:\", find_subarray_with_sum(arr, target))"
      ],
      "metadata": {
        "colab": {
          "base_uri": "https://localhost:8080/"
        },
        "id": "6uWRmf_WRiee",
        "outputId": "79f0469f-066d-45ce-d5a1-b50fcd5bf6a1"
      },
      "execution_count": null,
      "outputs": [
        {
          "output_type": "stream",
          "name": "stdout",
          "text": [
            "Enter a list of integers: 2 4 6 10 3 1 2\n",
            "Enter the target sum: 13\n",
            "Subarray indices: (3, 4)\n"
          ]
        }
      ]
    },
    {
      "cell_type": "markdown",
      "source": [
        "# **4. Log Analysis System**\n",
        " **Objective**\n",
        "\n",
        "Extract insights from server logs: top IPs, status code counts, and most accessed URLs.\n",
        "\n",
        "** Approach**\n",
        "\n",
        "Use regular expressions to parse each log line, and Counter to aggregate frequencies for IPs, URLs, and status codes.\n",
        "\n",
        "** Challenges**\n",
        "\n",
        "Handling log format variations, simulating large data in Colab, and ensuring output clarity and memory efficiency.\n",
        "\n",
        "\n"
      ],
      "metadata": {
        "id": "rTdE2lN9Z5SO"
      }
    },
    {
      "cell_type": "code",
      "source": [
        "import re\n",
        "from collections import Counter\n",
        "\n",
        "# Simulated log data (can be extended to hundreds/thousands of lines)\n",
        "sample_logs = [\n",
        "    '192.168.1.1 - - [30/Jul/2025:10:00:00 +0530] \"GET /index.html HTTP/1.1\" 200 1024',\n",
        "    '172.16.0.2 - - [30/Jul/2025:10:01:00 +0530] \"GET /about.html HTTP/1.1\" 404 512',\n",
        "    '192.168.1.1 - - [30/Jul/2025:10:02:00 +0530] \"POST /submit.html HTTP/1.1\" 200 256',\n",
        "    '10.0.0.1 - - [30/Jul/2025:10:03:00 +0530] \"GET /contact.html HTTP/1.1\" 200 768',\n",
        "    '172.16.0.2 - - [30/Jul/2025:10:04:00 +0530] \"GET /index.html HTTP/1.1\" 404 321',\n",
        "    '192.168.1.1 - - [30/Jul/2025:10:05:00 +0530] \"GET /index.html HTTP/1.1\" 200 100',\n",
        "]\n",
        "\n",
        "def parse_log_line(line):\n",
        "    # Extract IP, method, URL, and status code\n",
        "    match = re.match(r'(\\S+) .*? \"(GET|POST) (\\S+) HTTP.*?\" (\\d+)', line)\n",
        "    if match:\n",
        "        ip = match.group(1)\n",
        "        url = match.group(3)\n",
        "        status = match.group(4)\n",
        "        return ip, status, url\n",
        "    return None\n",
        "\n",
        "def analyze_log(log_data):\n",
        "    ip_counter = Counter()\n",
        "    status_counter = Counter()\n",
        "    url_counter = Counter()\n",
        "\n",
        "    for line in log_data:\n",
        "        parsed = parse_log_line(line)\n",
        "        if parsed:\n",
        "            ip, status, url = parsed\n",
        "            ip_counter[ip] += 1\n",
        "            status_counter[status] += 1\n",
        "            url_counter[url] += 1\n",
        "\n",
        "    # Output Results\n",
        "    print(\"\\nTop 5 IP Addresses:\")\n",
        "    for ip, count in ip_counter.most_common(5):\n",
        "        print(f\"{ip}: {count} times\")\n",
        "\n",
        "    print(\"\\nHTTP Status Codes:\")\n",
        "    for status, count in sorted(status_counter.items()):\n",
        "        print(f\"{status}: {count}\")\n",
        "\n",
        "    print(\"\\nTop 5 Accessed URLs:\")\n",
        "    for url, count in url_counter.most_common(5):\n",
        "        print(f\"{url}: {count} times\")\n",
        "\n",
        "# Run the analysis\n",
        "analyze_log(sample_logs)"
      ],
      "metadata": {
        "colab": {
          "base_uri": "https://localhost:8080/"
        },
        "id": "proqW4iOU2Dr",
        "outputId": "78212a9d-9826-486d-ab8d-01bf3ff3204f"
      },
      "execution_count": null,
      "outputs": [
        {
          "output_type": "stream",
          "name": "stdout",
          "text": [
            "\n",
            "Top 5 IP Addresses:\n",
            "192.168.1.1: 3 times\n",
            "172.16.0.2: 2 times\n",
            "10.0.0.1: 1 times\n",
            "\n",
            "HTTP Status Codes:\n",
            "200: 4\n",
            "404: 2\n",
            "\n",
            "Top 5 Accessed URLs:\n",
            "/index.html: 3 times\n",
            "/about.html: 1 times\n",
            "/submit.html: 1 times\n",
            "/contact.html: 1 times\n"
          ]
        }
      ]
    },
    {
      "cell_type": "code",
      "source": [],
      "metadata": {
        "id": "DEgq8GLKWMgl"
      },
      "execution_count": null,
      "outputs": []
    }
  ]
}